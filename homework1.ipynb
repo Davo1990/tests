{
 "cells": [
  {
   "cell_type": "code",
   "execution_count": 3,
   "metadata": {},
   "outputs": [
    {
     "name": "stdout",
     "output_type": "stream",
     "text": [
      "False\n",
      "True\n",
      "True\n",
      "False\n",
      "<class 'int'>\n",
      "<class 'str'>\n",
      "<class 'int'>\n",
      "Flour -  175\n"
     ]
    }
   ],
   "source": [
    "project='cake'\n",
    "difficulty=4\n",
    "ingredients=['flour', 'butter', 'sugar', 'eggs', 'cocoa powder', 'baking powder']\n",
    "print('apple' in ingredients)\n",
    "print('butter' in ingredients) \n",
    "print('eggs' in ingredients or 'margarine' in ingredients)\n",
    "print('eggs' in ingredients and 'margarine' in ingredients)\n",
    "flour=175\n",
    "butter=175\n",
    "sugar='100g'\n",
    "eggs=2\n",
    "cocoa_powder='1ts'\n",
    "baking_powder=0.5\n",
    "print(type(flour))\n",
    "print(type(sugar))\n",
    "print(type(butter))\n",
    "print(\"Flour - \", flour)\n",
    "print('butter - ', butter)\n"
   ]
  },
  {
   "cell_type": "code",
   "execution_count": 4,
   "metadata": {},
   "outputs": [
    {
     "name": "stdout",
     "output_type": "stream",
     "text": [
      "1003.0\n",
      "852\n"
     ]
    }
   ],
   "source": [
    "a=15\n",
    "b=8\n",
    "c=2\n",
    "print(5*a**2-a*b+(a%2)-a/5)\n",
    "print(b**3+3*a*b-10*c)"
   ]
  },
  {
   "cell_type": "code",
   "execution_count": 10,
   "metadata": {},
   "outputs": [
    {
     "name": "stdout",
     "output_type": "stream",
     "text": [
      "345\n",
      "1\n"
     ]
    }
   ],
   "source": [
    "a=input()\n",
    "a=int(a)\n",
    "print(a%2)"
   ]
  },
  {
   "cell_type": "code",
   "execution_count": null,
   "metadata": {},
   "outputs": [],
   "source": []
  }
 ],
 "metadata": {
  "kernelspec": {
   "display_name": "Python 3",
   "language": "python",
   "name": "python3"
  },
  "language_info": {
   "codemirror_mode": {
    "name": "ipython",
    "version": 3
   },
   "file_extension": ".py",
   "mimetype": "text/x-python",
   "name": "python",
   "nbconvert_exporter": "python",
   "pygments_lexer": "ipython3",
   "version": "3.7.3"
  }
 },
 "nbformat": 4,
 "nbformat_minor": 2
}
